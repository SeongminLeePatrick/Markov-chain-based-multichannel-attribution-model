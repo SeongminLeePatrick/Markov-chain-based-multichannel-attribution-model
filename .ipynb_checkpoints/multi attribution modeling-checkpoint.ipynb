{
 "cells": [
  {
   "cell_type": "code",
   "execution_count": 143,
   "metadata": {},
   "outputs": [],
   "source": [
    "import pandas as pd\n",
    "import numpy as np\n",
    "import matplotlib.pyplot as plt\n",
    "%matplotlib inline"
   ]
  },
  {
   "cell_type": "markdown",
   "metadata": {},
   "source": [
    "# 1. Customer Journey\n",
    "  - C stands for \"Channel\". For example, C could be Facebook, Linked-in, Display, Search, Instagram, and so on"
   ]
  },
  {
   "cell_type": "code",
   "execution_count": 176,
   "metadata": {},
   "outputs": [],
   "source": [
    "j_df = pd.DataFrame({'journey':['C1-C2-C3-purchase', 'C1', 'C2-C3', 'C1-C4-purchase', 'C1-C3-purchase', 'C1-C4-purchase', 'C1-C3-purchase']})"
   ]
  },
  {
   "cell_type": "code",
   "execution_count": 177,
   "metadata": {},
   "outputs": [
    {
     "data": {
      "text/html": [
       "<div>\n",
       "<style scoped>\n",
       "    .dataframe tbody tr th:only-of-type {\n",
       "        vertical-align: middle;\n",
       "    }\n",
       "\n",
       "    .dataframe tbody tr th {\n",
       "        vertical-align: top;\n",
       "    }\n",
       "\n",
       "    .dataframe thead th {\n",
       "        text-align: right;\n",
       "    }\n",
       "</style>\n",
       "<table border=\"1\" class=\"dataframe\">\n",
       "  <thead>\n",
       "    <tr style=\"text-align: right;\">\n",
       "      <th></th>\n",
       "      <th>journey</th>\n",
       "    </tr>\n",
       "  </thead>\n",
       "  <tbody>\n",
       "    <tr>\n",
       "      <th>0</th>\n",
       "      <td>C1-C2-C3-purchase</td>\n",
       "    </tr>\n",
       "    <tr>\n",
       "      <th>1</th>\n",
       "      <td>C1</td>\n",
       "    </tr>\n",
       "    <tr>\n",
       "      <th>2</th>\n",
       "      <td>C2-C3</td>\n",
       "    </tr>\n",
       "    <tr>\n",
       "      <th>3</th>\n",
       "      <td>C1-C4-purchase</td>\n",
       "    </tr>\n",
       "    <tr>\n",
       "      <th>4</th>\n",
       "      <td>C1-C3-purchase</td>\n",
       "    </tr>\n",
       "    <tr>\n",
       "      <th>5</th>\n",
       "      <td>C1-C4-purchase</td>\n",
       "    </tr>\n",
       "    <tr>\n",
       "      <th>6</th>\n",
       "      <td>C1-C3-purchase</td>\n",
       "    </tr>\n",
       "  </tbody>\n",
       "</table>\n",
       "</div>"
      ],
      "text/plain": [
       "             journey\n",
       "0  C1-C2-C3-purchase\n",
       "1                 C1\n",
       "2              C2-C3\n",
       "3     C1-C4-purchase\n",
       "4     C1-C3-purchase\n",
       "5     C1-C4-purchase\n",
       "6     C1-C3-purchase"
      ]
     },
     "execution_count": 177,
     "metadata": {},
     "output_type": "execute_result"
    }
   ],
   "source": [
    "j_df"
   ]
  },
  {
   "cell_type": "markdown",
   "metadata": {},
   "source": [
    "# 2. Transformation"
   ]
  },
  {
   "cell_type": "code",
   "execution_count": 178,
   "metadata": {},
   "outputs": [],
   "source": [
    "def transformation_j_df(j_df):\n",
    "    for i in range(len(j_df)):\n",
    "        if 'purchase' in j_df[j_df.columns[0]][i]:\n",
    "            j_df[j_df.columns[0]][i] = j_df[j_df.columns[0]][i].replace('purchase', 'cvs') \n",
    "            j_df[j_df.columns[0]][i] = '1. start-' + j_df[j_df.columns[0]][i]\n",
    "        else:\n",
    "            j_df[j_df.columns[0]][i] = j_df[j_df.columns[0]][i] + '-null'\n",
    "            j_df[j_df.columns[0]][i] = '1. start-' + j_df[j_df.columns[0]][i]\n",
    "    return j_df"
   ]
  },
  {
   "cell_type": "code",
   "execution_count": 179,
   "metadata": {},
   "outputs": [],
   "source": [
    "tran_df = transformation_j_df(j_df)"
   ]
  },
  {
   "cell_type": "code",
   "execution_count": 180,
   "metadata": {},
   "outputs": [
    {
     "data": {
      "text/html": [
       "<div>\n",
       "<style scoped>\n",
       "    .dataframe tbody tr th:only-of-type {\n",
       "        vertical-align: middle;\n",
       "    }\n",
       "\n",
       "    .dataframe tbody tr th {\n",
       "        vertical-align: top;\n",
       "    }\n",
       "\n",
       "    .dataframe thead th {\n",
       "        text-align: right;\n",
       "    }\n",
       "</style>\n",
       "<table border=\"1\" class=\"dataframe\">\n",
       "  <thead>\n",
       "    <tr style=\"text-align: right;\">\n",
       "      <th></th>\n",
       "      <th>journey</th>\n",
       "    </tr>\n",
       "  </thead>\n",
       "  <tbody>\n",
       "    <tr>\n",
       "      <th>0</th>\n",
       "      <td>1. start-C1-C2-C3-cvs</td>\n",
       "    </tr>\n",
       "    <tr>\n",
       "      <th>1</th>\n",
       "      <td>1. start-C1-null</td>\n",
       "    </tr>\n",
       "    <tr>\n",
       "      <th>2</th>\n",
       "      <td>1. start-C2-C3-null</td>\n",
       "    </tr>\n",
       "    <tr>\n",
       "      <th>3</th>\n",
       "      <td>1. start-C1-C4-cvs</td>\n",
       "    </tr>\n",
       "    <tr>\n",
       "      <th>4</th>\n",
       "      <td>1. start-C1-C3-cvs</td>\n",
       "    </tr>\n",
       "    <tr>\n",
       "      <th>5</th>\n",
       "      <td>1. start-C1-C4-cvs</td>\n",
       "    </tr>\n",
       "    <tr>\n",
       "      <th>6</th>\n",
       "      <td>1. start-C1-C3-cvs</td>\n",
       "    </tr>\n",
       "  </tbody>\n",
       "</table>\n",
       "</div>"
      ],
      "text/plain": [
       "                 journey\n",
       "0  1. start-C1-C2-C3-cvs\n",
       "1       1. start-C1-null\n",
       "2    1. start-C2-C3-null\n",
       "3     1. start-C1-C4-cvs\n",
       "4     1. start-C1-C3-cvs\n",
       "5     1. start-C1-C4-cvs\n",
       "6     1. start-C1-C3-cvs"
      ]
     },
     "execution_count": 180,
     "metadata": {},
     "output_type": "execute_result"
    }
   ],
   "source": [
    "tran_df"
   ]
  },
  {
   "cell_type": "markdown",
   "metadata": {},
   "source": [
    "# 3. split for pairs"
   ]
  },
  {
   "cell_type": "code",
   "execution_count": 181,
   "metadata": {},
   "outputs": [],
   "source": [
    "def split_pairs(tran_df):\n",
    "    cal_df = pd.DataFrame(columns = {'from', 'to', 'pro', 'ttl_pro'})\n",
    "    cal_df_row = 0\n",
    "    for i in range(len(tran_df)):\n",
    "        path_lists = tran_df[tran_df.columns[0]][i].split('-')\n",
    "        path_length = len(tran_df[tran_df.columns[0]][i].split('-')) - 1\n",
    "        for p in range(path_length):\n",
    "            cal_df.loc[cal_df_row,'from'] = path_lists[p]\n",
    "            cal_df.loc[cal_df_row,'to'] = path_lists[p+1]\n",
    "            cal_df_row +=1\n",
    "    \n",
    "    cal_df = cal_df.sort_values(by = ['from', 'to'], ascending = True)\n",
    "    cal_df.reset_index(drop=True, inplace = True)\n",
    "    pro_match = {}\n",
    "    dupl_match = {}\n",
    "    for e in cal_df['from'].unique():\n",
    "        pro_num = cal_df[cal_df['from'] == e].shape[0]\n",
    "        pro_match[e] = 1/pro_num\n",
    "        #dupl_match[e] = duplicated_num\n",
    "    cal_df['pro'] = cal_df['pro'].fillna(cal_df['from'].map(pro_match))  \n",
    "    cal_df['ttl_pro'] = cal_df.groupby(['from', 'to'])['pro'].cumsum()               \n",
    "    cal_df = cal_df.drop_duplicates(subset = ['from', 'to'], keep = 'last')\n",
    "    cal_df.reset_index(drop = True, inplace = True)    \n",
    "    cal_df = cal_df[['from', 'to', 'pro', 'ttl_pro']]\n",
    "    return cal_df"
   ]
  },
  {
   "cell_type": "code",
   "execution_count": 182,
   "metadata": {},
   "outputs": [],
   "source": [
    "cal_df = split_pairs(tran_df)"
   ]
  },
  {
   "cell_type": "code",
   "execution_count": 183,
   "metadata": {},
   "outputs": [
    {
     "data": {
      "text/html": [
       "<div>\n",
       "<style scoped>\n",
       "    .dataframe tbody tr th:only-of-type {\n",
       "        vertical-align: middle;\n",
       "    }\n",
       "\n",
       "    .dataframe tbody tr th {\n",
       "        vertical-align: top;\n",
       "    }\n",
       "\n",
       "    .dataframe thead th {\n",
       "        text-align: right;\n",
       "    }\n",
       "</style>\n",
       "<table border=\"1\" class=\"dataframe\">\n",
       "  <thead>\n",
       "    <tr style=\"text-align: right;\">\n",
       "      <th></th>\n",
       "      <th>from</th>\n",
       "      <th>to</th>\n",
       "      <th>pro</th>\n",
       "      <th>ttl_pro</th>\n",
       "    </tr>\n",
       "  </thead>\n",
       "  <tbody>\n",
       "    <tr>\n",
       "      <th>0</th>\n",
       "      <td>1. start</td>\n",
       "      <td>C1</td>\n",
       "      <td>0.142857</td>\n",
       "      <td>0.857143</td>\n",
       "    </tr>\n",
       "    <tr>\n",
       "      <th>1</th>\n",
       "      <td>1. start</td>\n",
       "      <td>C2</td>\n",
       "      <td>0.142857</td>\n",
       "      <td>0.142857</td>\n",
       "    </tr>\n",
       "    <tr>\n",
       "      <th>2</th>\n",
       "      <td>C1</td>\n",
       "      <td>C2</td>\n",
       "      <td>0.166667</td>\n",
       "      <td>0.166667</td>\n",
       "    </tr>\n",
       "    <tr>\n",
       "      <th>3</th>\n",
       "      <td>C1</td>\n",
       "      <td>C3</td>\n",
       "      <td>0.166667</td>\n",
       "      <td>0.333333</td>\n",
       "    </tr>\n",
       "    <tr>\n",
       "      <th>4</th>\n",
       "      <td>C1</td>\n",
       "      <td>C4</td>\n",
       "      <td>0.166667</td>\n",
       "      <td>0.333333</td>\n",
       "    </tr>\n",
       "    <tr>\n",
       "      <th>5</th>\n",
       "      <td>C1</td>\n",
       "      <td>null</td>\n",
       "      <td>0.166667</td>\n",
       "      <td>0.166667</td>\n",
       "    </tr>\n",
       "    <tr>\n",
       "      <th>6</th>\n",
       "      <td>C2</td>\n",
       "      <td>C3</td>\n",
       "      <td>0.500000</td>\n",
       "      <td>1.000000</td>\n",
       "    </tr>\n",
       "    <tr>\n",
       "      <th>7</th>\n",
       "      <td>C3</td>\n",
       "      <td>cvs</td>\n",
       "      <td>0.250000</td>\n",
       "      <td>0.750000</td>\n",
       "    </tr>\n",
       "    <tr>\n",
       "      <th>8</th>\n",
       "      <td>C3</td>\n",
       "      <td>null</td>\n",
       "      <td>0.250000</td>\n",
       "      <td>0.250000</td>\n",
       "    </tr>\n",
       "    <tr>\n",
       "      <th>9</th>\n",
       "      <td>C4</td>\n",
       "      <td>cvs</td>\n",
       "      <td>0.500000</td>\n",
       "      <td>1.000000</td>\n",
       "    </tr>\n",
       "  </tbody>\n",
       "</table>\n",
       "</div>"
      ],
      "text/plain": [
       "       from    to       pro   ttl_pro\n",
       "0  1. start    C1  0.142857  0.857143\n",
       "1  1. start    C2  0.142857  0.142857\n",
       "2        C1    C2  0.166667  0.166667\n",
       "3        C1    C3  0.166667  0.333333\n",
       "4        C1    C4  0.166667  0.333333\n",
       "5        C1  null  0.166667  0.166667\n",
       "6        C2    C3  0.500000  1.000000\n",
       "7        C3   cvs  0.250000  0.750000\n",
       "8        C3  null  0.250000  0.250000\n",
       "9        C4   cvs  0.500000  1.000000"
      ]
     },
     "execution_count": 183,
     "metadata": {},
     "output_type": "execute_result"
    }
   ],
   "source": [
    "cal_df"
   ]
  },
  {
   "cell_type": "code",
   "execution_count": 184,
   "metadata": {},
   "outputs": [],
   "source": [
    "import networkx as nx"
   ]
  },
  {
   "cell_type": "code",
   "execution_count": 185,
   "metadata": {},
   "outputs": [],
   "source": [
    "G = nx.DiGraph()"
   ]
  },
  {
   "cell_type": "code",
   "execution_count": 186,
   "metadata": {},
   "outputs": [],
   "source": [
    "for index, row in cal_df.iterrows():\n",
    "    G.add_edge(cal_df.loc[index, 'from'], cal_df.loc[index, 'to'], weight = round(cal_df.loc[index, 'ttl_pro'],2))"
   ]
  },
  {
   "cell_type": "code",
   "execution_count": 187,
   "metadata": {},
   "outputs": [],
   "source": [
    "def transition_mat(cal_df):\n",
    "    row = cal_df.shape[0]\n",
    "    cal_df.loc[row, 'from'] = 'null'\n",
    "    cal_df.loc[row, 'to'] = 'null'\n",
    "    cal_df.loc[row, 'ttl_pro'] = 1\n",
    "    cal_df.loc[row+1, 'from'] = 'cvs'\n",
    "    cal_df.loc[row+1, 'to'] = 'cvs'\n",
    "    cal_df.loc[row+1, 'ttl_pro'] = 1\n",
    "    \n",
    "    G = nx.DiGraph()\n",
    "    \n",
    "    for index, row in cal_df.iterrows():\n",
    "        G.add_edge(cal_df.loc[index, 'from'], cal_df.loc[index, 'to'], weight = round(cal_df.loc[index, 'ttl_pro'],2))\n",
    "       \n",
    "    mat = nx.to_numpy_matrix(G)\n",
    "    return np.array(mat)"
   ]
  },
  {
   "cell_type": "code",
   "execution_count": 188,
   "metadata": {},
   "outputs": [],
   "source": [
    "transition_mat = transition_mat(cal_df)"
   ]
  },
  {
   "cell_type": "code",
   "execution_count": 189,
   "metadata": {
    "scrolled": true
   },
   "outputs": [
    {
     "data": {
      "text/plain": [
       "array([[0.  , 0.86, 0.14, 0.  , 0.  , 0.  , 0.  ],\n",
       "       [0.  , 0.  , 0.17, 0.33, 0.33, 0.17, 0.  ],\n",
       "       [0.  , 0.  , 0.  , 1.  , 0.  , 0.  , 0.  ],\n",
       "       [0.  , 0.  , 0.  , 0.  , 0.  , 0.25, 0.75],\n",
       "       [0.  , 0.  , 0.  , 0.  , 0.  , 0.  , 1.  ],\n",
       "       [0.  , 0.  , 0.  , 0.  , 0.  , 1.  , 0.  ],\n",
       "       [0.  , 0.  , 0.  , 0.  , 0.  , 0.  , 1.  ]])"
      ]
     },
     "execution_count": 189,
     "metadata": {},
     "output_type": "execute_result"
    }
   ],
   "source": [
    "transition_mat"
   ]
  },
  {
   "cell_type": "code",
   "execution_count": 190,
   "metadata": {},
   "outputs": [],
   "source": [
    "from scipy import linalg"
   ]
  },
  {
   "cell_type": "code",
   "execution_count": 191,
   "metadata": {},
   "outputs": [],
   "source": [
    "initial_state = np.array([1, 0, 0, 0, 0, 0, 0])"
   ]
  },
  {
   "cell_type": "code",
   "execution_count": 192,
   "metadata": {},
   "outputs": [
    {
     "name": "stdout",
     "output_type": "stream",
     "text": [
      "[0.   0.86 0.14 0.   0.   0.   0.  ]\n",
      "[0.     0.     0.1462 0.4238 0.2838 0.1462 0.    ]\n",
      "[0.      0.      0.      0.1462  0.      0.25215 0.60165]\n",
      "[0.     0.     0.     0.     0.     0.2887 0.7113]\n",
      "[0.     0.     0.     0.     0.     0.2887 0.7113]\n"
     ]
    }
   ],
   "source": [
    "converged = False\n",
    "\n",
    "numIter = 0\n",
    "while not converged:\n",
    "    updated_state = transition_mat.T.dot(initial_state)\n",
    "    print(updated_state)\n",
    "    \n",
    "    if linalg.norm(initial_state-updated_state) < 0.000000001:\n",
    "        converged = True\n",
    "    else:\n",
    "        numIter += 1\n",
    "        initial_state = updated_state"
   ]
  },
  {
   "cell_type": "code",
   "execution_count": 193,
   "metadata": {},
   "outputs": [
    {
     "data": {
      "image/png": "[encoded data removed]",
      "text/plain": [
       "<matplotlib.figure.Figure at 0x225e65ec940>"
      ]
     },
     "metadata": {},
     "output_type": "display_data"
    }
   ],
   "source": [
    "#Graph option\n",
    "pos = nx.circular_layout(G)\n",
    "\n",
    "#Edge option (edgelist control by [(u, v) for u, v, d in G.edges(data=True) if d['weight'] >= 0.8])\n",
    "nx.draw_networkx_edges(G, pos, edgelist = G.edges(), width = 1.8, alpha = 0.8)\n",
    "\n",
    "#edge label  option\n",
    "nx.draw_networkx_edge_labels(G, pos)\n",
    "\n",
    "#node option\n",
    "nx.draw_networkx_nodes(G, pos, nodelist= G.nodes(), node_color = '#ffc0cb', node_shape= 'o',  node_size= 200)\n",
    "\n",
    "#label option\n",
    "nx.draw_networkx_labels(G, pos, font_size = 10)\n",
    "\n",
    "plt.rcParams['figure.figsize'] = (5, 5)\n",
    "plt.show()"
   ]
  },
  {
   "cell_type": "code",
   "execution_count": 194,
   "metadata": {},
   "outputs": [],
   "source": [
    "nodes = list(G.nodes())"
   ]
  },
  {
   "cell_type": "code",
   "execution_count": 195,
   "metadata": {},
   "outputs": [],
   "source": [
    "def remove_scn_nodes(nodes_list):\n",
    "    try:\n",
    "        nodes_list.remove('1. start')\n",
    "        nodes_list.remove('cvs')\n",
    "        nodes_list.remove('null')\n",
    "    except:\n",
    "        return nodes_list\n",
    "    return nodes_list"
   ]
  },
  {
   "cell_type": "code",
   "execution_count": 196,
   "metadata": {},
   "outputs": [],
   "source": [
    "nodes_list = remove_scn_nodes(nodes)"
   ]
  },
  {
   "cell_type": "code",
   "execution_count": 197,
   "metadata": {},
   "outputs": [
    {
     "data": {
      "text/plain": [
       "4"
      ]
     },
     "execution_count": 197,
     "metadata": {},
     "output_type": "execute_result"
    }
   ],
   "source": [
    "len(nodes_list)"
   ]
  },
  {
   "cell_type": "code",
   "execution_count": 198,
   "metadata": {},
   "outputs": [],
   "source": [
    "def create_var(nodes_list):\n",
    "    list_length = len(nodes_list)\n",
    "    return [str('G')+'_'+str(i) for i in range(len(nodes_list))]"
   ]
  },
  {
   "cell_type": "code",
   "execution_count": 199,
   "metadata": {
    "scrolled": true
   },
   "outputs": [
    {
     "data": {
      "text/plain": [
       "['G_0', 'G_1', 'G_2', 'G_3']"
      ]
     },
     "execution_count": 199,
     "metadata": {},
     "output_type": "execute_result"
    }
   ],
   "source": [
    "create_var(nodes_list)"
   ]
  },
  {
   "cell_type": "code",
   "execution_count": 200,
   "metadata": {},
   "outputs": [],
   "source": [
    "att_result = pd.DataFrame(columns = {'channel', 'removal_effect'})\n",
    "att_result = att_result[['channel', 'removal_effect']]"
   ]
  },
  {
   "cell_type": "code",
   "execution_count": 201,
   "metadata": {},
   "outputs": [
    {
     "data": {
      "text/html": [
       "<div>\n",
       "<style scoped>\n",
       "    .dataframe tbody tr th:only-of-type {\n",
       "        vertical-align: middle;\n",
       "    }\n",
       "\n",
       "    .dataframe tbody tr th {\n",
       "        vertical-align: top;\n",
       "    }\n",
       "\n",
       "    .dataframe thead th {\n",
       "        text-align: right;\n",
       "    }\n",
       "</style>\n",
       "<table border=\"1\" class=\"dataframe\">\n",
       "  <thead>\n",
       "    <tr style=\"text-align: right;\">\n",
       "      <th></th>\n",
       "      <th>channel</th>\n",
       "      <th>removal_effect</th>\n",
       "    </tr>\n",
       "  </thead>\n",
       "  <tbody>\n",
       "  </tbody>\n",
       "</table>\n",
       "</div>"
      ],
      "text/plain": [
       "Empty DataFrame\n",
       "Columns: [channel, removal_effect]\n",
       "Index: []"
      ]
     },
     "execution_count": 201,
     "metadata": {},
     "output_type": "execute_result"
    }
   ],
   "source": [
    "att_result"
   ]
  },
  {
   "cell_type": "markdown",
   "metadata": {},
   "source": [
    "### total attribution"
   ]
  },
  {
   "cell_type": "code",
   "execution_count": 202,
   "metadata": {},
   "outputs": [],
   "source": [
    "original_all_path = list(nx.all_simple_paths(G, source = '1. start', target = 'cvs'))"
   ]
  },
  {
   "cell_type": "code",
   "execution_count": 203,
   "metadata": {},
   "outputs": [
    {
     "data": {
      "text/plain": [
       "[['1. start', 'C1', 'C2', 'C3', 'cvs'],\n",
       " ['1. start', 'C1', 'C3', 'cvs'],\n",
       " ['1. start', 'C1', 'C4', 'cvs'],\n",
       " ['1. start', 'C2', 'C3', 'cvs']]"
      ]
     },
     "execution_count": 203,
     "metadata": {},
     "output_type": "execute_result"
    }
   ],
   "source": [
    "original_all_path"
   ]
  },
  {
   "cell_type": "code",
   "execution_count": 204,
   "metadata": {},
   "outputs": [
    {
     "name": "stdout",
     "output_type": "stream",
     "text": [
      "0.10965\n",
      "0.10965\n",
      "0.21284999999999998\n",
      "0.3225\n",
      "0.2838\n",
      "0.6063000000000001\n",
      "0.10500000000000001\n",
      "0.7113\n"
     ]
    }
   ],
   "source": [
    "total_attribution = 0\n",
    "for paths in original_all_path:\n",
    "    accumulated_weight = 1\n",
    "    for i in range(len(paths)-1):\n",
    "        accumulated_weight *= G[paths[i]][paths[i+1]]['weight']\n",
    "    print(accumulated_weight)\n",
    "    total_attribution += accumulated_weight\n",
    "    print(total_attribution)"
   ]
  },
  {
   "cell_type": "code",
   "execution_count": 205,
   "metadata": {},
   "outputs": [
    {
     "data": {
      "text/plain": [
       "0.7113"
      ]
     },
     "execution_count": 205,
     "metadata": {},
     "output_type": "execute_result"
    }
   ],
   "source": [
    "total_attribution"
   ]
  },
  {
   "cell_type": "markdown",
   "metadata": {},
   "source": [
    "### Removal Attribution"
   ]
  },
  {
   "cell_type": "code",
   "execution_count": 206,
   "metadata": {
    "scrolled": false
   },
   "outputs": [
    {
     "name": "stdout",
     "output_type": "stream",
     "text": [
      "[['1. start', 'C2', 'C3', 'cvs']]\n",
      "['1. start', 'C2', 'C3', 'cvs']\n",
      "0.14\n",
      "1.0\n",
      "0.75\n",
      "0.10500000000000001\n",
      "0.8523829607760438\n",
      "[['1. start', 'C1', 'C3', 'cvs'], ['1. start', 'C1', 'C4', 'cvs']]\n",
      "['1. start', 'C1', 'C3', 'cvs']\n",
      "0.86\n",
      "0.33\n",
      "0.75\n",
      "['1. start', 'C1', 'C4', 'cvs']\n",
      "0.86\n",
      "0.33\n",
      "1.0\n",
      "0.49665\n",
      "0.3017714044706875\n",
      "[['1. start', 'C1', 'C4', 'cvs']]\n",
      "['1. start', 'C1', 'C4', 'cvs']\n",
      "0.86\n",
      "0.33\n",
      "1.0\n",
      "0.2838\n",
      "0.6010122311261071\n",
      "[['1. start', 'C1', 'C2', 'C3', 'cvs'], ['1. start', 'C1', 'C3', 'cvs'], ['1. start', 'C2', 'C3', 'cvs']]\n",
      "['1. start', 'C1', 'C2', 'C3', 'cvs']\n",
      "0.86\n",
      "0.17\n",
      "1.0\n",
      "0.75\n",
      "['1. start', 'C1', 'C3', 'cvs']\n",
      "0.86\n",
      "0.33\n",
      "0.75\n",
      "['1. start', 'C2', 'C3', 'cvs']\n",
      "0.14\n",
      "1.0\n",
      "0.75\n",
      "0.4275\n",
      "0.39898776887389287\n"
     ]
    }
   ],
   "source": [
    "for var, node_del in zip(create_var(nodes_list), nodes_list):\n",
    "    var = G.copy()\n",
    "    var.remove_node(node_del)\n",
    "    all_paths = list(nx.all_simple_paths(var, source = '1. start', target = 'cvs'))\n",
    "    \n",
    "    print(all_paths)\n",
    "    \n",
    "    accumulated_weight = 0\n",
    "    for paths in all_paths:\n",
    "        print(paths)\n",
    "        single_path_weight_sum = 1\n",
    "        for i in range(len(paths)-1):\n",
    "            single_path_weight_sum *= G[paths[i]][paths[i+1]]['weight']\n",
    "            print( G[paths[i]][paths[i+1]]['weight'])\n",
    "            #print(single_path_weight_sum)\n",
    "        accumulated_weight += single_path_weight_sum\n",
    "        \n",
    "    print(accumulated_weight)    \n",
    "    removal_effect = 1 - (accumulated_weight/total_attribution)\n",
    "    print(removal_effect)\n",
    "    row = int(att_result.shape[0])\n",
    "    att_result.loc[row, 'channel'] = node_del\n",
    "    att_result.loc[row, 'removal_effect'] = removal_effect"
   ]
  },
  {
   "cell_type": "code",
   "execution_count": 207,
   "metadata": {},
   "outputs": [
    {
     "data": {
      "text/html": [
       "<div>\n",
       "<style scoped>\n",
       "    .dataframe tbody tr th:only-of-type {\n",
       "        vertical-align: middle;\n",
       "    }\n",
       "\n",
       "    .dataframe tbody tr th {\n",
       "        vertical-align: top;\n",
       "    }\n",
       "\n",
       "    .dataframe thead th {\n",
       "        text-align: right;\n",
       "    }\n",
       "</style>\n",
       "<table border=\"1\" class=\"dataframe\">\n",
       "  <thead>\n",
       "    <tr style=\"text-align: right;\">\n",
       "      <th></th>\n",
       "      <th>channel</th>\n",
       "      <th>removal_effect</th>\n",
       "    </tr>\n",
       "  </thead>\n",
       "  <tbody>\n",
       "    <tr>\n",
       "      <th>0</th>\n",
       "      <td>C1</td>\n",
       "      <td>0.852383</td>\n",
       "    </tr>\n",
       "    <tr>\n",
       "      <th>1</th>\n",
       "      <td>C2</td>\n",
       "      <td>0.301771</td>\n",
       "    </tr>\n",
       "    <tr>\n",
       "      <th>2</th>\n",
       "      <td>C3</td>\n",
       "      <td>0.601012</td>\n",
       "    </tr>\n",
       "    <tr>\n",
       "      <th>3</th>\n",
       "      <td>C4</td>\n",
       "      <td>0.398988</td>\n",
       "    </tr>\n",
       "  </tbody>\n",
       "</table>\n",
       "</div>"
      ],
      "text/plain": [
       "  channel removal_effect\n",
       "0      C1       0.852383\n",
       "1      C2       0.301771\n",
       "2      C3       0.601012\n",
       "3      C4       0.398988"
      ]
     },
     "execution_count": 207,
     "metadata": {},
     "output_type": "execute_result"
    }
   ],
   "source": [
    "att_result"
   ]
  },
  {
   "cell_type": "code",
   "execution_count": 208,
   "metadata": {},
   "outputs": [],
   "source": [
    "att_result['attribution'] = att_result.removal_effect.apply(lambda x:round(x/att_result.removal_effect.sum(),2))"
   ]
  },
  {
   "cell_type": "code",
   "execution_count": 209,
   "metadata": {},
   "outputs": [
    {
     "data": {
      "text/html": [
       "<div>\n",
       "<style scoped>\n",
       "    .dataframe tbody tr th:only-of-type {\n",
       "        vertical-align: middle;\n",
       "    }\n",
       "\n",
       "    .dataframe tbody tr th {\n",
       "        vertical-align: top;\n",
       "    }\n",
       "\n",
       "    .dataframe thead th {\n",
       "        text-align: right;\n",
       "    }\n",
       "</style>\n",
       "<table border=\"1\" class=\"dataframe\">\n",
       "  <thead>\n",
       "    <tr style=\"text-align: right;\">\n",
       "      <th></th>\n",
       "      <th>channel</th>\n",
       "      <th>removal_effect</th>\n",
       "      <th>attribution</th>\n",
       "    </tr>\n",
       "  </thead>\n",
       "  <tbody>\n",
       "    <tr>\n",
       "      <th>0</th>\n",
       "      <td>C1</td>\n",
       "      <td>0.852383</td>\n",
       "      <td>0.40</td>\n",
       "    </tr>\n",
       "    <tr>\n",
       "      <th>1</th>\n",
       "      <td>C2</td>\n",
       "      <td>0.301771</td>\n",
       "      <td>0.14</td>\n",
       "    </tr>\n",
       "    <tr>\n",
       "      <th>2</th>\n",
       "      <td>C3</td>\n",
       "      <td>0.601012</td>\n",
       "      <td>0.28</td>\n",
       "    </tr>\n",
       "    <tr>\n",
       "      <th>3</th>\n",
       "      <td>C4</td>\n",
       "      <td>0.398988</td>\n",
       "      <td>0.19</td>\n",
       "    </tr>\n",
       "  </tbody>\n",
       "</table>\n",
       "</div>"
      ],
      "text/plain": [
       "  channel removal_effect  attribution\n",
       "0      C1       0.852383         0.40\n",
       "1      C2       0.301771         0.14\n",
       "2      C3       0.601012         0.28\n",
       "3      C4       0.398988         0.19"
      ]
     },
     "execution_count": 209,
     "metadata": {},
     "output_type": "execute_result"
    }
   ],
   "source": [
    "att_result"
   ]
  },
  {
   "cell_type": "code",
   "execution_count": null,
   "metadata": {},
   "outputs": [],
   "source": []
  }
 ],
 "metadata": {
  "kernelspec": {
   "display_name": "Python 3",
   "language": "python",
   "name": "python3"
  },
  "language_info": {
   "codemirror_mode": {
    "name": "ipython",
    "version": 3
   },
   "file_extension": ".py",
   "mimetype": "text/x-python",
   "name": "python",
   "nbconvert_exporter": "python",
   "pygments_lexer": "ipython3",
   "version": "3.7.6"
  }
 },
 "nbformat": 4,
 "nbformat_minor": 2
}
